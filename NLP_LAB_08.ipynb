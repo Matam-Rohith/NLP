{
  "nbformat": 4,
  "nbformat_minor": 0,
  "metadata": {
    "colab": {
      "provenance": [],
      "authorship_tag": "ABX9TyMiDedFsaHaZj5oCMqsTYMV",
      "include_colab_link": true
    },
    "kernelspec": {
      "name": "python3",
      "display_name": "Python 3"
    },
    "language_info": {
      "name": "python"
    }
  },
  "cells": [
    {
      "cell_type": "markdown",
      "metadata": {
        "id": "view-in-github",
        "colab_type": "text"
      },
      "source": [
        "<a href=\"https://colab.research.google.com/github/Matam-Rohith/NLP/blob/main/NLP_LAB_08.ipynb\" target=\"_parent\"><img src=\"https://colab.research.google.com/assets/colab-badge.svg\" alt=\"Open In Colab\"/></a>"
      ]
    },
    {
      "cell_type": "code",
      "source": [
        "!pip install transformers datasets torch"
      ],
      "metadata": {
        "colab": {
          "base_uri": "https://localhost:8080/"
        },
        "id": "LutI9tNJltxK",
        "outputId": "21f2291d-24d1-4eda-aec6-3b29c94c85d5"
      },
      "execution_count": 15,
      "outputs": [
        {
          "output_type": "stream",
          "name": "stdout",
          "text": [
            "Requirement already satisfied: transformers in /usr/local/lib/python3.10/dist-packages (4.44.2)\n",
            "Requirement already satisfied: datasets in /usr/local/lib/python3.10/dist-packages (3.1.0)\n",
            "Requirement already satisfied: torch in /usr/local/lib/python3.10/dist-packages (2.5.0+cu121)\n",
            "Requirement already satisfied: filelock in /usr/local/lib/python3.10/dist-packages (from transformers) (3.16.1)\n",
            "Requirement already satisfied: huggingface-hub<1.0,>=0.23.2 in /usr/local/lib/python3.10/dist-packages (from transformers) (0.24.7)\n",
            "Requirement already satisfied: numpy>=1.17 in /usr/local/lib/python3.10/dist-packages (from transformers) (1.26.4)\n",
            "Requirement already satisfied: packaging>=20.0 in /usr/local/lib/python3.10/dist-packages (from transformers) (24.1)\n",
            "Requirement already satisfied: pyyaml>=5.1 in /usr/local/lib/python3.10/dist-packages (from transformers) (6.0.2)\n",
            "Requirement already satisfied: regex!=2019.12.17 in /usr/local/lib/python3.10/dist-packages (from transformers) (2024.9.11)\n",
            "Requirement already satisfied: requests in /usr/local/lib/python3.10/dist-packages (from transformers) (2.32.3)\n",
            "Requirement already satisfied: safetensors>=0.4.1 in /usr/local/lib/python3.10/dist-packages (from transformers) (0.4.5)\n",
            "Requirement already satisfied: tokenizers<0.20,>=0.19 in /usr/local/lib/python3.10/dist-packages (from transformers) (0.19.1)\n",
            "Requirement already satisfied: tqdm>=4.27 in /usr/local/lib/python3.10/dist-packages (from transformers) (4.66.6)\n",
            "Requirement already satisfied: pyarrow>=15.0.0 in /usr/local/lib/python3.10/dist-packages (from datasets) (17.0.0)\n",
            "Requirement already satisfied: dill<0.3.9,>=0.3.0 in /usr/local/lib/python3.10/dist-packages (from datasets) (0.3.8)\n",
            "Requirement already satisfied: pandas in /usr/local/lib/python3.10/dist-packages (from datasets) (2.2.2)\n",
            "Requirement already satisfied: xxhash in /usr/local/lib/python3.10/dist-packages (from datasets) (3.5.0)\n",
            "Requirement already satisfied: multiprocess<0.70.17 in /usr/local/lib/python3.10/dist-packages (from datasets) (0.70.16)\n",
            "Requirement already satisfied: fsspec<=2024.9.0,>=2023.1.0 in /usr/local/lib/python3.10/dist-packages (from fsspec[http]<=2024.9.0,>=2023.1.0->datasets) (2024.9.0)\n",
            "Requirement already satisfied: aiohttp in /usr/local/lib/python3.10/dist-packages (from datasets) (3.10.10)\n",
            "Requirement already satisfied: typing-extensions>=4.8.0 in /usr/local/lib/python3.10/dist-packages (from torch) (4.12.2)\n",
            "Requirement already satisfied: networkx in /usr/local/lib/python3.10/dist-packages (from torch) (3.4.2)\n",
            "Requirement already satisfied: jinja2 in /usr/local/lib/python3.10/dist-packages (from torch) (3.1.4)\n",
            "Requirement already satisfied: sympy==1.13.1 in /usr/local/lib/python3.10/dist-packages (from torch) (1.13.1)\n",
            "Requirement already satisfied: mpmath<1.4,>=1.1.0 in /usr/local/lib/python3.10/dist-packages (from sympy==1.13.1->torch) (1.3.0)\n",
            "Requirement already satisfied: aiohappyeyeballs>=2.3.0 in /usr/local/lib/python3.10/dist-packages (from aiohttp->datasets) (2.4.3)\n",
            "Requirement already satisfied: aiosignal>=1.1.2 in /usr/local/lib/python3.10/dist-packages (from aiohttp->datasets) (1.3.1)\n",
            "Requirement already satisfied: attrs>=17.3.0 in /usr/local/lib/python3.10/dist-packages (from aiohttp->datasets) (24.2.0)\n",
            "Requirement already satisfied: frozenlist>=1.1.1 in /usr/local/lib/python3.10/dist-packages (from aiohttp->datasets) (1.5.0)\n",
            "Requirement already satisfied: multidict<7.0,>=4.5 in /usr/local/lib/python3.10/dist-packages (from aiohttp->datasets) (6.1.0)\n",
            "Requirement already satisfied: yarl<2.0,>=1.12.0 in /usr/local/lib/python3.10/dist-packages (from aiohttp->datasets) (1.17.0)\n",
            "Requirement already satisfied: async-timeout<5.0,>=4.0 in /usr/local/lib/python3.10/dist-packages (from aiohttp->datasets) (4.0.3)\n",
            "Requirement already satisfied: charset-normalizer<4,>=2 in /usr/local/lib/python3.10/dist-packages (from requests->transformers) (3.4.0)\n",
            "Requirement already satisfied: idna<4,>=2.5 in /usr/local/lib/python3.10/dist-packages (from requests->transformers) (3.10)\n",
            "Requirement already satisfied: urllib3<3,>=1.21.1 in /usr/local/lib/python3.10/dist-packages (from requests->transformers) (2.2.3)\n",
            "Requirement already satisfied: certifi>=2017.4.17 in /usr/local/lib/python3.10/dist-packages (from requests->transformers) (2024.8.30)\n",
            "Requirement already satisfied: MarkupSafe>=2.0 in /usr/local/lib/python3.10/dist-packages (from jinja2->torch) (3.0.2)\n",
            "Requirement already satisfied: python-dateutil>=2.8.2 in /usr/local/lib/python3.10/dist-packages (from pandas->datasets) (2.8.2)\n",
            "Requirement already satisfied: pytz>=2020.1 in /usr/local/lib/python3.10/dist-packages (from pandas->datasets) (2024.2)\n",
            "Requirement already satisfied: tzdata>=2022.7 in /usr/local/lib/python3.10/dist-packages (from pandas->datasets) (2024.2)\n",
            "Requirement already satisfied: six>=1.5 in /usr/local/lib/python3.10/dist-packages (from python-dateutil>=2.8.2->pandas->datasets) (1.16.0)\n",
            "Requirement already satisfied: propcache>=0.2.0 in /usr/local/lib/python3.10/dist-packages (from yarl<2.0,>=1.12.0->aiohttp->datasets) (0.2.0)\n"
          ]
        }
      ]
    },
    {
      "cell_type": "code",
      "source": [
        "import torch\n",
        "from transformers import GPT2Tokenizer, GPT2LMHeadModel, GPT2Config\n",
        "from torch.utils.data import Dataset, DataLoader"
      ],
      "metadata": {
        "id": "Y_fzGfYdlyvV"
      },
      "execution_count": 16,
      "outputs": []
    },
    {
      "cell_type": "code",
      "source": [
        "# 1. Data Preparation\n",
        "text = \"\"\"Once upon a time, there was a little girl named Red Riding Hood. She loved to visit her grandmother, who lived in the woods. One day, her mother asked her to take a basket of goodies to her grandmother. On her way through the woods, she met a big bad wolf who wanted to eat her. [CO5]\"\"\"\n"
      ],
      "metadata": {
        "id": "gbsxvRcUlw7M"
      },
      "execution_count": 17,
      "outputs": []
    },
    {
      "cell_type": "code",
      "source": [
        "# 2. Tokenization\n",
        "tokenizer = GPT2Tokenizer.from_pretrained(\"gpt2\")\n",
        "# Add a padding token if it doesn't exist\n",
        "if tokenizer.pad_token is None:\n",
        "    tokenizer.add_special_tokens({'pad_token': '[PAD]'})"
      ],
      "metadata": {
        "colab": {
          "base_uri": "https://localhost:8080/"
        },
        "id": "1UIv9T-QmmaI",
        "outputId": "cad6ec55-4ae0-4ee8-e258-1b0ef83f4d81"
      },
      "execution_count": 18,
      "outputs": [
        {
          "output_type": "stream",
          "name": "stderr",
          "text": [
            "/usr/local/lib/python3.10/dist-packages/transformers/tokenization_utils_base.py:1601: FutureWarning: `clean_up_tokenization_spaces` was not set. It will be set to `True` by default. This behavior will be depracted in transformers v4.45, and will be then set to `False` by default. For more details check this issue: https://github.com/huggingface/transformers/issues/31884\n",
            "  warnings.warn(\n"
          ]
        }
      ]
    },
    {
      "cell_type": "code",
      "source": [
        "# Tokenize the text\n",
        "inputs = tokenizer(text, return_tensors=\"pt\", padding=True, truncation=True)"
      ],
      "metadata": {
        "id": "EZrKSVxkmqtS"
      },
      "execution_count": 19,
      "outputs": []
    },
    {
      "cell_type": "code",
      "source": [
        "# 3. Create Custom Dataset\n",
        "class TextDataset(Dataset):\n",
        "    def __init__(self, encodings):\n",
        "        self.encodings = encodings\n",
        "\n",
        "    def __getitem__(self, idx):\n",
        "        return {key: torch.tensor(val[idx]) for key, val in self.encodings.items()}\n",
        "\n",
        "    def __len__(self):\n",
        "        return len(self.encodings.input_ids)"
      ],
      "metadata": {
        "id": "DpRjM7V9mvLf"
      },
      "execution_count": 20,
      "outputs": []
    },
    {
      "cell_type": "code",
      "source": [
        "dataset = TextDataset(inputs)\n",
        "train_loader = DataLoader(dataset, batch_size=1, shuffle=True) # Use batch_size=1 for simplicity\n"
      ],
      "metadata": {
        "id": "EUcC4w1Wm17-"
      },
      "execution_count": 21,
      "outputs": []
    },
    {
      "cell_type": "code",
      "source": [
        "# 4. Model Setup\n",
        "# Use a smaller GPT-2 model for demonstration (you can change to 'gpt2' or 'gpt2-medium')\n",
        "configuration = GPT2Config.from_pretrained('gpt2', output_hidden_states=False)\n",
        "model = GPT2LMHeadModel.from_pretrained(\"gpt2\", config=configuration)\n",
        "model.resize_token_embeddings(len(tokenizer))  # Resize if you added special tokens"
      ],
      "metadata": {
        "colab": {
          "base_uri": "https://localhost:8080/"
        },
        "id": "MWjBieKPm5A-",
        "outputId": "71b5431f-e72e-4079-95d8-25393c845c54"
      },
      "execution_count": 22,
      "outputs": [
        {
          "output_type": "execute_result",
          "data": {
            "text/plain": [
              "Embedding(50258, 768)"
            ]
          },
          "metadata": {},
          "execution_count": 22
        }
      ]
    },
    {
      "cell_type": "code",
      "source": [
        "# Optimizer and Loss\n",
        "optimizer = torch.optim.AdamW(model.parameters(), lr=5e-5)"
      ],
      "metadata": {
        "id": "RRnZP6x0m96b"
      },
      "execution_count": 23,
      "outputs": []
    },
    {
      "cell_type": "code",
      "source": [
        "# 5. Training Loop\n",
        "def train(epochs):\n",
        "    for epoch in range(epochs):\n",
        "        for batch in train_loader:\n",
        "            optimizer.zero_grad()\n",
        "            input_ids = batch['input_ids'].to(model.device)\n",
        "            attention_mask = batch['attention_mask'].to(model.device)\n",
        "            # Forward pass\n",
        "            outputs = model(input_ids, attention_mask=attention_mask, labels=input_ids)\n",
        "             # Backward pass and optimization\n",
        "            loss = outputs.loss\n",
        "            loss.backward()\n",
        "            optimizer.step()\n",
        "\n",
        "        print(f\"Epoch {epoch+1}/{epochs} - Loss: {loss.item()}\")\n",
        "\n",
        ""
      ],
      "metadata": {
        "id": "iLqHP43SnA5t"
      },
      "execution_count": 28,
      "outputs": []
    },
    {
      "cell_type": "code",
      "source": [
        "# Train for different epochs\n",
        "epochs_list = [20, 60, 70]\n",
        "for epochs in epochs_list:\n",
        "    train(epochs)"
      ],
      "metadata": {
        "colab": {
          "base_uri": "https://localhost:8080/"
        },
        "id": "Kbt1g3kJndyY",
        "outputId": "fa51706c-2c30-46d4-c221-e62fe8c0388b"
      },
      "execution_count": 36,
      "outputs": [
        {
          "output_type": "stream",
          "name": "stderr",
          "text": [
            "<ipython-input-20-75c05e5e281a>:7: UserWarning: To copy construct from a tensor, it is recommended to use sourceTensor.clone().detach() or sourceTensor.clone().detach().requires_grad_(True), rather than torch.tensor(sourceTensor).\n",
            "  return {key: torch.tensor(val[idx]) for key, val in self.encodings.items()}\n"
          ]
        },
        {
          "output_type": "stream",
          "name": "stdout",
          "text": [
            "Epoch 1/20 - Loss: 0.004091780167073011\n",
            "Epoch 2/20 - Loss: 0.0040012504905462265\n",
            "Epoch 3/20 - Loss: 0.0039152465760707855\n",
            "Epoch 4/20 - Loss: 0.003833897178992629\n",
            "Epoch 5/20 - Loss: 0.003756564110517502\n",
            "Epoch 6/20 - Loss: 0.003682462265715003\n",
            "Epoch 7/20 - Loss: 0.0036114060785621405\n",
            "Epoch 8/20 - Loss: 0.003542846068739891\n",
            "Epoch 9/20 - Loss: 0.003476562211290002\n",
            "Epoch 10/20 - Loss: 0.0034123589284718037\n",
            "Epoch 11/20 - Loss: 0.0033500082790851593\n",
            "Epoch 12/20 - Loss: 0.0032894338946789503\n",
            "Epoch 13/20 - Loss: 0.003230504458770156\n",
            "Epoch 14/20 - Loss: 0.0031730991322547197\n",
            "Epoch 15/20 - Loss: 0.0031171520240604877\n",
            "Epoch 16/20 - Loss: 0.003062596544623375\n",
            "Epoch 17/20 - Loss: 0.003009296488016844\n",
            "Epoch 18/20 - Loss: 0.002957178046926856\n",
            "Epoch 19/20 - Loss: 0.002906341338530183\n",
            "Epoch 20/20 - Loss: 0.0028566885739564896\n",
            "Epoch 1/60 - Loss: 0.002808175515383482\n",
            "Epoch 2/60 - Loss: 0.0027607486117631197\n",
            "Epoch 3/60 - Loss: 0.0027143608313053846\n",
            "Epoch 4/60 - Loss: 0.0026690128725022078\n",
            "Epoch 5/60 - Loss: 0.0026247561909258366\n",
            "Epoch 6/60 - Loss: 0.0025814755354076624\n",
            "Epoch 7/60 - Loss: 0.002539239823818207\n",
            "Epoch 8/60 - Loss: 0.002498258836567402\n",
            "Epoch 9/60 - Loss: 0.0024585530627518892\n",
            "Epoch 10/60 - Loss: 0.002420367207378149\n",
            "Epoch 11/60 - Loss: 0.0023836244363337755\n",
            "Epoch 12/60 - Loss: 0.0023483301047235727\n",
            "Epoch 13/60 - Loss: 0.002314095152541995\n",
            "Epoch 14/60 - Loss: 0.0022803659085184336\n",
            "Epoch 15/60 - Loss: 0.0022469928953796625\n",
            "Epoch 16/60 - Loss: 0.0022141095250844955\n",
            "Epoch 17/60 - Loss: 0.002182204509153962\n",
            "Epoch 18/60 - Loss: 0.0021513148676604033\n",
            "Epoch 19/60 - Loss: 0.0021214978769421577\n",
            "Epoch 20/60 - Loss: 0.002092741895467043\n",
            "Epoch 21/60 - Loss: 0.0020649360958486795\n",
            "Epoch 22/60 - Loss: 0.002037924248725176\n",
            "Epoch 23/60 - Loss: 0.0020117152016609907\n",
            "Epoch 24/60 - Loss: 0.001986149698495865\n",
            "Epoch 25/60 - Loss: 0.001961252186447382\n",
            "Epoch 26/60 - Loss: 0.0019369812216609716\n",
            "Epoch 27/60 - Loss: 0.0019132924498990178\n",
            "Epoch 28/60 - Loss: 0.0018901712028309703\n",
            "Epoch 29/60 - Loss: 0.0018676243489608169\n",
            "Epoch 30/60 - Loss: 0.0018456154502928257\n",
            "Epoch 31/60 - Loss: 0.0018241197103634477\n",
            "Epoch 32/60 - Loss: 0.0018031697254627943\n",
            "Epoch 33/60 - Loss: 0.0017827115952968597\n",
            "Epoch 34/60 - Loss: 0.0017627055058255792\n",
            "Epoch 35/60 - Loss: 0.0017431953456252813\n",
            "Epoch 36/60 - Loss: 0.0017241447931155562\n",
            "Epoch 37/60 - Loss: 0.001705469680018723\n",
            "Epoch 38/60 - Loss: 0.0016872771084308624\n",
            "Epoch 39/60 - Loss: 0.0016695087542757392\n",
            "Epoch 40/60 - Loss: 0.0016521245706826448\n",
            "Epoch 41/60 - Loss: 0.0016351627418771386\n",
            "Epoch 42/60 - Loss: 0.0016185208223760128\n",
            "Epoch 43/60 - Loss: 0.0016022732015699148\n",
            "Epoch 44/60 - Loss: 0.001586340949870646\n",
            "Epoch 45/60 - Loss: 0.0015707769198343158\n",
            "Epoch 46/60 - Loss: 0.001555459457449615\n",
            "Epoch 47/60 - Loss: 0.0015404252335429192\n",
            "Epoch 48/60 - Loss: 0.001525650848634541\n",
            "Epoch 49/60 - Loss: 0.0015111516695469618\n",
            "Epoch 50/60 - Loss: 0.0014968658797442913\n",
            "Epoch 51/60 - Loss: 0.0014828579733148217\n",
            "Epoch 52/60 - Loss: 0.0014690617099404335\n",
            "Epoch 53/60 - Loss: 0.001455462072044611\n",
            "Epoch 54/60 - Loss: 0.00144212378654629\n",
            "Epoch 55/60 - Loss: 0.001429022173397243\n",
            "Epoch 56/60 - Loss: 0.0014161404687911272\n",
            "Epoch 57/60 - Loss: 0.0014034758787602186\n",
            "Epoch 58/60 - Loss: 0.0013909984845668077\n",
            "Epoch 59/60 - Loss: 0.0013787586940452456\n",
            "Epoch 60/60 - Loss: 0.0013666709419339895\n",
            "Epoch 1/70 - Loss: 0.0013548184651881456\n",
            "Epoch 2/70 - Loss: 0.001343119889497757\n",
            "Epoch 3/70 - Loss: 0.0013316087424755096\n",
            "Epoch 4/70 - Loss: 0.0013203133130446076\n",
            "Epoch 5/70 - Loss: 0.0013091807486489415\n",
            "Epoch 6/70 - Loss: 0.001298150746151805\n",
            "Epoch 7/70 - Loss: 0.001287332852371037\n",
            "Epoch 8/70 - Loss: 0.0012766375439241529\n",
            "Epoch 9/70 - Loss: 0.0012661255896091461\n",
            "Epoch 10/70 - Loss: 0.0012557895388454199\n",
            "Epoch 11/70 - Loss: 0.0012455838732421398\n",
            "Epoch 12/70 - Loss: 0.0012355130165815353\n",
            "Epoch 13/70 - Loss: 0.0012255765032023191\n",
            "Epoch 14/70 - Loss: 0.0012158257886767387\n",
            "Epoch 15/70 - Loss: 0.0012062005698680878\n",
            "Epoch 16/70 - Loss: 0.0011966763995587826\n",
            "Epoch 17/70 - Loss: 0.001187324058264494\n",
            "Epoch 18/70 - Loss: 0.001178076141513884\n",
            "Epoch 19/70 - Loss: 0.0011689253151416779\n",
            "Epoch 20/70 - Loss: 0.001159930252470076\n",
            "Epoch 21/70 - Loss: 0.001151064527221024\n",
            "Epoch 22/70 - Loss: 0.0011422923998907208\n",
            "Epoch 23/70 - Loss: 0.0011336355237290263\n",
            "Epoch 24/70 - Loss: 0.0011251078685745597\n",
            "Epoch 25/70 - Loss: 0.0011166775366291404\n",
            "Epoch 26/70 - Loss: 0.0011083711870014668\n",
            "Epoch 27/70 - Loss: 0.0011002030223608017\n",
            "Epoch 28/70 - Loss: 0.0010920560453087091\n",
            "Epoch 29/70 - Loss: 0.001084079034626484\n",
            "Epoch 30/70 - Loss: 0.0010761409066617489\n",
            "Epoch 31/70 - Loss: 0.0010683516738936305\n",
            "Epoch 32/70 - Loss: 0.001060622395016253\n",
            "Epoch 33/70 - Loss: 0.0010530544677749276\n",
            "Epoch 34/70 - Loss: 0.0010454881703481078\n",
            "Epoch 35/70 - Loss: 0.001038097427226603\n",
            "Epoch 36/70 - Loss: 0.001030770130455494\n",
            "Epoch 37/70 - Loss: 0.0010235334048047662\n",
            "Epoch 38/70 - Loss: 0.0010163745610043406\n",
            "Epoch 39/70 - Loss: 0.0010093218879774213\n",
            "Epoch 40/70 - Loss: 0.0010023225331678987\n",
            "Epoch 41/70 - Loss: 0.0009953886037692428\n",
            "Epoch 42/70 - Loss: 0.0009885609615594149\n",
            "Epoch 43/70 - Loss: 0.0009818271500989795\n",
            "Epoch 44/70 - Loss: 0.0009751697070896626\n",
            "Epoch 45/70 - Loss: 0.0009686077246442437\n",
            "Epoch 46/70 - Loss: 0.000962109596002847\n",
            "Epoch 47/70 - Loss: 0.0009556966251693666\n",
            "Epoch 48/70 - Loss: 0.0009493543184362352\n",
            "Epoch 49/70 - Loss: 0.0009430475765839219\n",
            "Epoch 50/70 - Loss: 0.0009368276805616915\n",
            "Epoch 51/70 - Loss: 0.0009306680294685066\n",
            "Epoch 52/70 - Loss: 0.0009245827095583081\n",
            "Epoch 53/70 - Loss: 0.0009185842936858535\n",
            "Epoch 54/70 - Loss: 0.0009126514196395874\n",
            "Epoch 55/70 - Loss: 0.0009067841456271708\n",
            "Epoch 56/70 - Loss: 0.0009010073845274746\n",
            "Epoch 57/70 - Loss: 0.0008952622301876545\n",
            "Epoch 58/70 - Loss: 0.0008895578212104738\n",
            "Epoch 59/70 - Loss: 0.0008839226211421192\n",
            "Epoch 60/70 - Loss: 0.0008783956873230636\n",
            "Epoch 61/70 - Loss: 0.0008728828397579491\n",
            "Epoch 62/70 - Loss: 0.0008674603886902332\n",
            "Epoch 63/70 - Loss: 0.0008621034794487059\n",
            "Epoch 64/70 - Loss: 0.0008567608310841024\n",
            "Epoch 65/70 - Loss: 0.0008514979272149503\n",
            "Epoch 66/70 - Loss: 0.000846266804728657\n",
            "Epoch 67/70 - Loss: 0.0008411227609030902\n",
            "Epoch 68/70 - Loss: 0.0008360050851479173\n",
            "Epoch 69/70 - Loss: 0.0008309513214044273\n",
            "Epoch 70/70 - Loss: 0.000825915252789855\n"
          ]
        }
      ]
    },
    {
      "cell_type": "code",
      "source": [
        "# 6. Text Generation\n",
        "def generate_text(prompt, max_length=50):\n",
        "    input_ids = tokenizer.encode(prompt, return_tensors=\"pt\").to(model.device)\n",
        "\n",
        "    # Generate text\n",
        "    output = model.generate(input_ids, max_length=max_length, num_beams=5, no_repeat_ngram_size=2, early_stopping=True)\n",
        "\n",
        "    # Decode and print the generated text\n",
        "    generated_text = tokenizer.decode(output[0], skip_special_tokens=True)\n",
        "    print(generated_text)"
      ],
      "metadata": {
        "id": "U5fewzFfov_r"
      },
      "execution_count": 33,
      "outputs": []
    },
    {
      "cell_type": "code",
      "source": [
        "# Example usage for text generation\n",
        "prompt = \"Once upon a time\"\n",
        "generate_text(prompt)"
      ],
      "metadata": {
        "colab": {
          "base_uri": "https://localhost:8080/"
        },
        "id": "Zei0a9N4o3HR",
        "outputId": "0910334a-c912-4d16-b19d-a4f2ec219baa"
      },
      "execution_count": 35,
      "outputs": [
        {
          "output_type": "stream",
          "name": "stderr",
          "text": [
            "The attention mask and the pad token id were not set. As a consequence, you may observe unexpected behavior. Please pass your input's `attention_mask` to obtain reliable results.\n",
            "Setting `pad_token_id` to `eos_token_id`:50256 for open-end generation.\n",
            "The attention mask is not set and cannot be inferred from input because pad token is same as eos token. As a consequence, you may observe unexpected behavior. Please pass your input's `attention_mask` to obtain reliable results.\n"
          ]
        },
        {
          "output_type": "stream",
          "name": "stdout",
          "text": [
            "Once upon a time, there was a little girl named Red Riding Hood. She loved to visit her grandmother, who lived in the woods. One day, she met a big bad wolf who wanted to eat her. [CO5]\n",
            " to\n"
          ]
        }
      ]
    }
  ]
}